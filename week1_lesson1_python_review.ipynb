{
 "cells": [
  {
   "cell_type": "markdown",
   "id": "8b7e938a-e979-4367-b1fc-e9bedd067c6a",
   "metadata": {},
   "source": [
    "# Python review\n",
    "Goals: \n",
    "- Recall Basic python vocab\n",
    "- Practice markdown \n",
    "\n",
    "## Libraries and packages\n",
    "\n",
    "**library**: a collection of code that we can use to perform specific tasks in out pprograms \n",
    "\n",
    "ex = **NumPy**:\n",
    "- Core lib\n",
    "- many other libs use NumPy arrays as building blocks\n",
    "- computations on NumPy are optimized for speed and memory usage \n",
    "\n",
    "lets import NumPy with **standard abbreviation**\n"
   ]
  },
  {
   "cell_type": "code",
   "execution_count": 1,
   "id": "55f8e370-c854-48c2-9948-2fc65cca8d4c",
   "metadata": {
    "tags": []
   },
   "outputs": [],
   "source": [
    "import numpy as np"
   ]
  },
  {
   "cell_type": "markdown",
   "id": "d60172aa-e107-40ca-a11e-ff6c794233ce",
   "metadata": {},
   "source": [
    "## Variables \n",
    "\n",
    "**Variable**: a name we assign to a particular object in Python \n",
    "Example:"
   ]
  },
  {
   "cell_type": "code",
   "execution_count": 3,
   "id": "9d12f630-d605-4747-a2a9-a3f1c73db7de",
   "metadata": {
    "tags": []
   },
   "outputs": [],
   "source": [
    "#Assigning small array to variable a\n",
    "a = np.array([[1,1,2],[3,5,8]])"
   ]
  },
  {
   "cell_type": "code",
   "execution_count": 4,
   "id": "2c4db07c-a022-4cf1-8ffd-35c74809374b",
   "metadata": {
    "tags": []
   },
   "outputs": [
    {
     "data": {
      "text/plain": [
       "array([[1, 1, 2],\n",
       "       [3, 5, 8]])"
      ]
     },
     "execution_count": 4,
     "metadata": {},
     "output_type": "execute_result"
    }
   ],
   "source": [
    "#Check out a\n",
    "a"
   ]
  },
  {
   "cell_type": "code",
   "execution_count": 6,
   "id": "4ece488d-7113-4e85-9f6a-758be591489c",
   "metadata": {
    "tags": []
   },
   "outputs": [
    {
     "name": "stdout",
     "output_type": "stream",
     "text": [
      "[[1 1 2]\n",
      " [3 5 8]]\n"
     ]
    }
   ],
   "source": [
    "#Can also use 'print' function \n",
    "print(a)"
   ]
  },
  {
   "cell_type": "markdown",
   "id": "feeca06c-481f-46a3-a869-eb567ac0bc3f",
   "metadata": {},
   "source": [
    "## Objects\n",
    "\n",
    "**object** (informally speaking) is a bundle of *properties* and *actions* about something specific\n",
    "Ex:\n",
    "\n",
    "Object: DF\n",
    "\n",
    "Properties: number of rows, names of the columns, date created\n",
    "\n",
    "Actions.: selecting rows and cols, adding new cols \n",
    "\n",
    "A variable is the name we give a specific object, and the same object can be referenced by different variables. \n",
    "\n",
    "In practice, we can use variable and object interchangeably. "
   ]
  },
  {
   "cell_type": "code",
   "execution_count": null,
   "id": "476a37e3-c089-4f83-a4de-43d3d2853dd9",
   "metadata": {},
   "outputs": [],
   "source": []
  }
 ],
 "metadata": {
  "kernelspec": {
   "display_name": "EDS220",
   "language": "python",
   "name": "eds220-env"
  },
  "language_info": {
   "codemirror_mode": {
    "name": "ipython",
    "version": 3
   },
   "file_extension": ".py",
   "mimetype": "text/x-python",
   "name": "python",
   "nbconvert_exporter": "python",
   "pygments_lexer": "ipython3",
   "version": "3.11.4"
  }
 },
 "nbformat": 4,
 "nbformat_minor": 5
}
