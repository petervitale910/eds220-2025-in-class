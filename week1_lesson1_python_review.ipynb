{
 "cells": [
  {
   "cell_type": "markdown",
   "id": "44d50bf9-b42c-4052-baa8-be2d2395e2cc",
   "metadata": {},
   "source": [
    "# Pandas 1: series and data frames\n",
    "Learning objectives\n",
    "By the end of this lesson, students will be able to:\n",
    "\n",
    "- Explain the relation between *pandas.Series* and pandas. DataFrame\n",
    "- Construct simple pandas.Series and pandas. DataFrame from scratch using different initalization methods\n",
    "- Perform simple operations on *pandas.Series*\n",
    "- Navigate the pandas documentation to look for attributes and methods of *pandas.Series* and *pandas.DataFrame*"
   ]
  },
  {
   "cell_type": "code",
   "execution_count": 18,
   "id": "2dfa6452-dec5-4c86-87b1-fcd405e2e289",
   "metadata": {
    "tags": []
   },
   "outputs": [
    {
     "data": {
      "text/html": [
       "<div>\n",
       "<style scoped>\n",
       "    .dataframe tbody tr th:only-of-type {\n",
       "        vertical-align: middle;\n",
       "    }\n",
       "\n",
       "    .dataframe tbody tr th {\n",
       "        vertical-align: top;\n",
       "    }\n",
       "\n",
       "    .dataframe thead th {\n",
       "        text-align: right;\n",
       "    }\n",
       "</style>\n",
       "<table border=\"1\" class=\"dataframe\">\n",
       "  <thead>\n",
       "    <tr style=\"text-align: right;\">\n",
       "      <th></th>\n",
       "      <th>C1</th>\n",
       "      <th>C2</th>\n",
       "    </tr>\n",
       "  </thead>\n",
       "  <tbody>\n",
       "    <tr>\n",
       "      <th>a</th>\n",
       "      <td>0</td>\n",
       "      <td>3.1</td>\n",
       "    </tr>\n",
       "    <tr>\n",
       "      <th>b</th>\n",
       "      <td>1</td>\n",
       "      <td>3.2</td>\n",
       "    </tr>\n",
       "    <tr>\n",
       "      <th>c</th>\n",
       "      <td>2</td>\n",
       "      <td>3.3</td>\n",
       "    </tr>\n",
       "  </tbody>\n",
       "</table>\n",
       "</div>"
      ],
      "text/plain": [
       "   C1   C2\n",
       "a   0  3.1\n",
       "b   1  3.2\n",
       "c   2  3.3"
      ]
     },
     "execution_count": 18,
     "metadata": {},
     "output_type": "execute_result"
    }
   ],
   "source": [
    "# Check in 2\n",
    "\n",
    "df.columns=(['C1','C2'])# This is colnames in R without having to repeat !\n",
    "df"
   ]
  },
  {
   "cell_type": "code",
   "execution_count": 1,
   "id": "8b2f25da-5c1f-4065-afd8-ff411953b51c",
   "metadata": {
    "tags": []
   },
   "outputs": [],
   "source": [
    "# I know pandas but im pretty bad still. This part i know\n",
    "import pandas as pd\n",
    "import numpy as np"
   ]
  },
  {
   "cell_type": "markdown",
   "id": "3b9966b5-d124-4817-8abe-ef2825a06865",
   "metadata": {},
   "source": [
    "## Attributes & methods \n",
    "\n",
    "An object in Python has attributes and methods\n",
    "- **attribute**: Property of an object, some piece of info about it \n",
    "- **method**: a procedure associated with the object, an action where the main ingredient is the object\n",
    "\n",
    "We can access attrib\n",
    "utes by using a period after the variable name\n",
    "\n",
    "`variable.method()` or `variable.attribute`"
   ]
  },
  {
   "cell_type": "code",
   "execution_count": null,
   "id": "8090a9a9-1a31-478d-b156-d7a3ae6ef8f7",
   "metadata": {},
   "outputs": [],
   "source": [
    "a.shape"
   ]
  },
  {
   "cell_type": "code",
   "execution_count": null,
   "id": "18e7f1e0-e347-4e48-975f-c0221a63b2c5",
   "metadata": {},
   "outputs": [],
   "source": [
    "type(a.shape)"
   ]
  },
  {
   "cell_type": "code",
   "execution_count": null,
   "id": "7cfa5504-0f41-4bd2-a1b9-8210f4c59744",
   "metadata": {},
   "outputs": [],
   "source": [
    "#Method Examples\n",
    "a.min(axis = 0)"
   ]
  },
  {
   "cell_type": "markdown",
   "id": "ca8fad00-f219-4b7a-9409-ffdfc2d7cc7e",
   "metadata": {},
   "source": [
    "## Check in \n",
    "We can also call the `min` method w/out any paramaters:"
   ]
  },
  {
   "cell_type": "code",
   "execution_count": null,
   "id": "5f67d39f-de23-4c13-b8da-16374501b6b1",
   "metadata": {},
   "outputs": [],
   "source": [
    "a.min()"
   ]
  },
  {
   "cell_type": "markdown",
   "id": "a77f7361-c9e5-49b9-a5ca-9525a951b74b",
   "metadata": {},
   "source": [
    "Remember: methods are functions associated with an object"
   ]
  },
  {
   "cell_type": "code",
   "execution_count": 2,
   "id": "e50b0e24-3b7d-475a-a6f4-ef9757870630",
   "metadata": {
    "tags": []
   },
   "outputs": [
    {
     "ename": "NameError",
     "evalue": "name 'a' is not defined",
     "output_type": "error",
     "traceback": [
      "\u001b[0;31m---------------------------------------------------------------------------\u001b[0m",
      "\u001b[0;31mNameError\u001b[0m                                 Traceback (most recent call last)",
      "Cell \u001b[0;32mIn[2], line 1\u001b[0m\n\u001b[0;32m----> 1\u001b[0m \u001b[38;5;28mtype\u001b[39m(\u001b[43ma\u001b[49m\u001b[38;5;241m.\u001b[39mmin) \u001b[38;5;66;03m#Builtin_function_or_method \u001b[39;00m\n",
      "\u001b[0;31mNameError\u001b[0m: name 'a' is not defined"
     ]
    }
   ],
   "source": [
    "type(a.min) #Builtin_function_or_method \n"
   ]
  },
  {
   "cell_type": "markdown",
   "id": "ae8331f3-5acb-48e1-8326-7d563444de42",
   "metadata": {},
   "source": [
    "## Excercise \n",
    "1. Read `Print` fun help, What is the **type** of the argument `sep`? is this an optional or non-optional argument?\n",
    "\n",
    "2. Create two new variables, one with 77 and one with the string 99 \n",
    "\n",
    "3. Use your variable to print `77%99%77` by changing the value of one of the optional argument in print "
   ]
  },
  {
   "cell_type": "code",
   "execution_count": 3,
   "id": "596c488e-24fc-419d-a035-b6878e3b0bbb",
   "metadata": {
    "tags": []
   },
   "outputs": [
    {
     "data": {
      "text/plain": [
       "\u001b[0;31mSignature:\u001b[0m \u001b[0mprint\u001b[0m\u001b[0;34m(\u001b[0m\u001b[0;34m*\u001b[0m\u001b[0margs\u001b[0m\u001b[0;34m,\u001b[0m \u001b[0msep\u001b[0m\u001b[0;34m=\u001b[0m\u001b[0;34m' '\u001b[0m\u001b[0;34m,\u001b[0m \u001b[0mend\u001b[0m\u001b[0;34m=\u001b[0m\u001b[0;34m'\\n'\u001b[0m\u001b[0;34m,\u001b[0m \u001b[0mfile\u001b[0m\u001b[0;34m=\u001b[0m\u001b[0;32mNone\u001b[0m\u001b[0;34m,\u001b[0m \u001b[0mflush\u001b[0m\u001b[0;34m=\u001b[0m\u001b[0;32mFalse\u001b[0m\u001b[0;34m)\u001b[0m\u001b[0;34m\u001b[0m\u001b[0;34m\u001b[0m\u001b[0m\n",
       "\u001b[0;31mDocstring:\u001b[0m\n",
       "Prints the values to a stream, or to sys.stdout by default.\n",
       "\n",
       "sep\n",
       "  string inserted between values, default a space.\n",
       "end\n",
       "  string appended after the last value, default a newline.\n",
       "file\n",
       "  a file-like object (stream); defaults to the current sys.stdout.\n",
       "flush\n",
       "  whether to forcibly flush the stream.\n",
       "\u001b[0;31mType:\u001b[0m      builtin_function_or_method"
      ]
     },
     "metadata": {},
     "output_type": "display_data"
    }
   ],
   "source": [
    "?print\n"
   ]
  },
  {
   "cell_type": "code",
   "execution_count": 4,
   "id": "ff51a396-e651-43e3-9cc1-4d8417cd7269",
   "metadata": {
    "tags": []
   },
   "outputs": [],
   "source": [
    "sv = 77\n",
    "ni = '99'"
   ]
  },
  {
   "cell_type": "code",
   "execution_count": 7,
   "id": "166035f3-6b18-4e7c-8d80-fe67a8a3e16c",
   "metadata": {
    "tags": []
   },
   "outputs": [
    {
     "name": "stdout",
     "output_type": "stream",
     "text": [
      "77 more like 6/7 99 more like 6/7 77\n"
     ]
    }
   ],
   "source": [
    "print(sv, ni, sv, sep = ' more like 6/7 ')"
   ]
  },
  {
   "cell_type": "code",
   "execution_count": 6,
   "id": "12ee6040-f526-4a80-91c6-1cbd29d0e9a5",
   "metadata": {
    "tags": []
   },
   "outputs": [
    {
     "name": "stdout",
     "output_type": "stream",
     "text": [
      "\n"
     ]
    },
    {
     "data": {
      "text/plain": [
       "NoneType"
      ]
     },
     "execution_count": 6,
     "metadata": {},
     "output_type": "execute_result"
    }
   ],
   "source": []
  }
 ],
 "metadata": {
  "kernelspec": {
   "display_name": "EDS220",
   "language": "python",
   "name": "eds220-env"
  },
  "language_info": {
   "codemirror_mode": {
    "name": "ipython",
    "version": 3
   },
   "file_extension": ".py",
   "mimetype": "text/x-python",
   "name": "python",
   "nbconvert_exporter": "python",
   "pygments_lexer": "ipython3",
   "version": "3.11.4"
  }
 },
 "nbformat": 4,
 "nbformat_minor": 5
}
