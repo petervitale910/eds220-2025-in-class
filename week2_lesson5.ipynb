{
 "cells": [
  {
   "cell_type": "markdown",
   "id": "7461db59-fbdc-4f75-8166-3f6ea8771306",
   "metadata": {},
   "source": [
    "# Updating dfs\n",
    "\n",
    "## Updating values in df \n",
    "\n",
    "import packages and data"
   ]
  },
  {
   "cell_type": "code",
   "execution_count": 1,
   "id": "f05a2b84-00a1-4167-b4a2-b027b6f3a8a1",
   "metadata": {
    "tags": []
   },
   "outputs": [
    {
     "data": {
      "text/html": [
       "<div>\n",
       "<style scoped>\n",
       "    .dataframe tbody tr th:only-of-type {\n",
       "        vertical-align: middle;\n",
       "    }\n",
       "\n",
       "    .dataframe tbody tr th {\n",
       "        vertical-align: top;\n",
       "    }\n",
       "\n",
       "    .dataframe thead th {\n",
       "        text-align: right;\n",
       "    }\n",
       "</style>\n",
       "<table border=\"1\" class=\"dataframe\">\n",
       "  <thead>\n",
       "    <tr style=\"text-align: right;\">\n",
       "      <th></th>\n",
       "      <th>species</th>\n",
       "      <th>island</th>\n",
       "      <th>bill_length_mm</th>\n",
       "      <th>bill_depth_mm</th>\n",
       "      <th>flipper_length_mm</th>\n",
       "      <th>body_mass_g</th>\n",
       "      <th>sex</th>\n",
       "      <th>year</th>\n",
       "    </tr>\n",
       "  </thead>\n",
       "  <tbody>\n",
       "    <tr>\n",
       "      <th>0</th>\n",
       "      <td>Adelie</td>\n",
       "      <td>Torgersen</td>\n",
       "      <td>39.1</td>\n",
       "      <td>18.7</td>\n",
       "      <td>181.0</td>\n",
       "      <td>3750.0</td>\n",
       "      <td>male</td>\n",
       "      <td>2007</td>\n",
       "    </tr>\n",
       "    <tr>\n",
       "      <th>1</th>\n",
       "      <td>Adelie</td>\n",
       "      <td>Torgersen</td>\n",
       "      <td>39.5</td>\n",
       "      <td>17.4</td>\n",
       "      <td>186.0</td>\n",
       "      <td>3800.0</td>\n",
       "      <td>female</td>\n",
       "      <td>2007</td>\n",
       "    </tr>\n",
       "    <tr>\n",
       "      <th>2</th>\n",
       "      <td>Adelie</td>\n",
       "      <td>Torgersen</td>\n",
       "      <td>40.3</td>\n",
       "      <td>18.0</td>\n",
       "      <td>195.0</td>\n",
       "      <td>3250.0</td>\n",
       "      <td>female</td>\n",
       "      <td>2007</td>\n",
       "    </tr>\n",
       "    <tr>\n",
       "      <th>3</th>\n",
       "      <td>Adelie</td>\n",
       "      <td>Torgersen</td>\n",
       "      <td>NaN</td>\n",
       "      <td>NaN</td>\n",
       "      <td>NaN</td>\n",
       "      <td>NaN</td>\n",
       "      <td>NaN</td>\n",
       "      <td>2007</td>\n",
       "    </tr>\n",
       "    <tr>\n",
       "      <th>4</th>\n",
       "      <td>Adelie</td>\n",
       "      <td>Torgersen</td>\n",
       "      <td>36.7</td>\n",
       "      <td>19.3</td>\n",
       "      <td>193.0</td>\n",
       "      <td>3450.0</td>\n",
       "      <td>female</td>\n",
       "      <td>2007</td>\n",
       "    </tr>\n",
       "  </tbody>\n",
       "</table>\n",
       "</div>"
      ],
      "text/plain": [
       "  species     island  bill_length_mm  bill_depth_mm  flipper_length_mm  \\\n",
       "0  Adelie  Torgersen            39.1           18.7              181.0   \n",
       "1  Adelie  Torgersen            39.5           17.4              186.0   \n",
       "2  Adelie  Torgersen            40.3           18.0              195.0   \n",
       "3  Adelie  Torgersen             NaN            NaN                NaN   \n",
       "4  Adelie  Torgersen            36.7           19.3              193.0   \n",
       "\n",
       "   body_mass_g     sex  year  \n",
       "0       3750.0    male  2007  \n",
       "1       3800.0  female  2007  \n",
       "2       3250.0  female  2007  \n",
       "3          NaN     NaN  2007  \n",
       "4       3450.0  female  2007  "
      ]
     },
     "execution_count": 1,
     "metadata": {},
     "output_type": "execute_result"
    }
   ],
   "source": [
    "import numpy as np\n",
    "import pandas as pd\n",
    "import random\n",
    "\n",
    "#Set seed \n",
    "random.seed(42)\n",
    "\n",
    "# Read in data\n",
    "URL = 'https://raw.githubusercontent.com/allisonhorst/palmerpenguins/main/inst/extdata/penguins.csv'\n",
    "penguins = pd.read_csv(URL)\n",
    "\n",
    "penguins.head()"
   ]
  },
  {
   "cell_type": "code",
   "execution_count": 6,
   "id": "afc981f6-4cd7-438f-bdfb-29fa8ec8ef8a",
   "metadata": {
    "tags": []
   },
   "outputs": [
    {
     "name": "stdout",
     "output_type": "stream",
     "text": [
      "True\n"
     ]
    }
   ],
   "source": [
    "# Add column body mass in kg\n",
    "\n",
    "penguins['body_mass_kg'] = penguins['body_mass_g']/1000\n",
    "\n",
    "#confirm that code was correct\n",
    "print('body_mass_kg' in penguins.columns)"
   ]
  },
  {
   "cell_type": "code",
   "execution_count": 8,
   "id": "7d7fe752-7dad-426b-a09b-db5154c366e9",
   "metadata": {
    "tags": []
   },
   "outputs": [
    {
     "data": {
      "text/html": [
       "<div>\n",
       "<style scoped>\n",
       "    .dataframe tbody tr th:only-of-type {\n",
       "        vertical-align: middle;\n",
       "    }\n",
       "\n",
       "    .dataframe tbody tr th {\n",
       "        vertical-align: top;\n",
       "    }\n",
       "\n",
       "    .dataframe thead th {\n",
       "        text-align: right;\n",
       "    }\n",
       "</style>\n",
       "<table border=\"1\" class=\"dataframe\">\n",
       "  <thead>\n",
       "    <tr style=\"text-align: right;\">\n",
       "      <th></th>\n",
       "      <th>species</th>\n",
       "      <th>island</th>\n",
       "      <th>bill_length_mm</th>\n",
       "      <th>bill_depth_mm</th>\n",
       "      <th>flipper_length_mm</th>\n",
       "      <th>body_mass_g</th>\n",
       "      <th>sex</th>\n",
       "      <th>year</th>\n",
       "      <th>body_mass_kg</th>\n",
       "    </tr>\n",
       "  </thead>\n",
       "  <tbody>\n",
       "    <tr>\n",
       "      <th>0</th>\n",
       "      <td>Adelie</td>\n",
       "      <td>Torgersen</td>\n",
       "      <td>39.1</td>\n",
       "      <td>18.7</td>\n",
       "      <td>181.0</td>\n",
       "      <td>3750.0</td>\n",
       "      <td>male</td>\n",
       "      <td>2007</td>\n",
       "      <td>3.750</td>\n",
       "    </tr>\n",
       "    <tr>\n",
       "      <th>1</th>\n",
       "      <td>Adelie</td>\n",
       "      <td>Torgersen</td>\n",
       "      <td>39.5</td>\n",
       "      <td>17.4</td>\n",
       "      <td>186.0</td>\n",
       "      <td>3800.0</td>\n",
       "      <td>female</td>\n",
       "      <td>2007</td>\n",
       "      <td>3.800</td>\n",
       "    </tr>\n",
       "    <tr>\n",
       "      <th>2</th>\n",
       "      <td>Adelie</td>\n",
       "      <td>Torgersen</td>\n",
       "      <td>40.3</td>\n",
       "      <td>18.0</td>\n",
       "      <td>195.0</td>\n",
       "      <td>3250.0</td>\n",
       "      <td>female</td>\n",
       "      <td>2007</td>\n",
       "      <td>3.250</td>\n",
       "    </tr>\n",
       "    <tr>\n",
       "      <th>3</th>\n",
       "      <td>Adelie</td>\n",
       "      <td>Torgersen</td>\n",
       "      <td>NaN</td>\n",
       "      <td>NaN</td>\n",
       "      <td>NaN</td>\n",
       "      <td>NaN</td>\n",
       "      <td>NaN</td>\n",
       "      <td>2007</td>\n",
       "      <td>NaN</td>\n",
       "    </tr>\n",
       "    <tr>\n",
       "      <th>4</th>\n",
       "      <td>Adelie</td>\n",
       "      <td>Torgersen</td>\n",
       "      <td>36.7</td>\n",
       "      <td>19.3</td>\n",
       "      <td>193.0</td>\n",
       "      <td>3450.0</td>\n",
       "      <td>female</td>\n",
       "      <td>2007</td>\n",
       "      <td>3.450</td>\n",
       "    </tr>\n",
       "    <tr>\n",
       "      <th>...</th>\n",
       "      <td>...</td>\n",
       "      <td>...</td>\n",
       "      <td>...</td>\n",
       "      <td>...</td>\n",
       "      <td>...</td>\n",
       "      <td>...</td>\n",
       "      <td>...</td>\n",
       "      <td>...</td>\n",
       "      <td>...</td>\n",
       "    </tr>\n",
       "    <tr>\n",
       "      <th>339</th>\n",
       "      <td>Chinstrap</td>\n",
       "      <td>Dream</td>\n",
       "      <td>55.8</td>\n",
       "      <td>19.8</td>\n",
       "      <td>207.0</td>\n",
       "      <td>4000.0</td>\n",
       "      <td>male</td>\n",
       "      <td>2009</td>\n",
       "      <td>4.000</td>\n",
       "    </tr>\n",
       "    <tr>\n",
       "      <th>340</th>\n",
       "      <td>Chinstrap</td>\n",
       "      <td>Dream</td>\n",
       "      <td>43.5</td>\n",
       "      <td>18.1</td>\n",
       "      <td>202.0</td>\n",
       "      <td>3400.0</td>\n",
       "      <td>female</td>\n",
       "      <td>2009</td>\n",
       "      <td>3.400</td>\n",
       "    </tr>\n",
       "    <tr>\n",
       "      <th>341</th>\n",
       "      <td>Chinstrap</td>\n",
       "      <td>Dream</td>\n",
       "      <td>49.6</td>\n",
       "      <td>18.2</td>\n",
       "      <td>193.0</td>\n",
       "      <td>3775.0</td>\n",
       "      <td>male</td>\n",
       "      <td>2009</td>\n",
       "      <td>3.775</td>\n",
       "    </tr>\n",
       "    <tr>\n",
       "      <th>342</th>\n",
       "      <td>Chinstrap</td>\n",
       "      <td>Dream</td>\n",
       "      <td>50.8</td>\n",
       "      <td>19.0</td>\n",
       "      <td>210.0</td>\n",
       "      <td>4100.0</td>\n",
       "      <td>male</td>\n",
       "      <td>2009</td>\n",
       "      <td>4.100</td>\n",
       "    </tr>\n",
       "    <tr>\n",
       "      <th>343</th>\n",
       "      <td>Chinstrap</td>\n",
       "      <td>Dream</td>\n",
       "      <td>50.2</td>\n",
       "      <td>18.7</td>\n",
       "      <td>198.0</td>\n",
       "      <td>3775.0</td>\n",
       "      <td>female</td>\n",
       "      <td>2009</td>\n",
       "      <td>3.775</td>\n",
       "    </tr>\n",
       "  </tbody>\n",
       "</table>\n",
       "<p>344 rows × 9 columns</p>\n",
       "</div>"
      ],
      "text/plain": [
       "       species     island  bill_length_mm  bill_depth_mm  flipper_length_mm  \\\n",
       "0       Adelie  Torgersen            39.1           18.7              181.0   \n",
       "1       Adelie  Torgersen            39.5           17.4              186.0   \n",
       "2       Adelie  Torgersen            40.3           18.0              195.0   \n",
       "3       Adelie  Torgersen             NaN            NaN                NaN   \n",
       "4       Adelie  Torgersen            36.7           19.3              193.0   \n",
       "..         ...        ...             ...            ...                ...   \n",
       "339  Chinstrap      Dream            55.8           19.8              207.0   \n",
       "340  Chinstrap      Dream            43.5           18.1              202.0   \n",
       "341  Chinstrap      Dream            49.6           18.2              193.0   \n",
       "342  Chinstrap      Dream            50.8           19.0              210.0   \n",
       "343  Chinstrap      Dream            50.2           18.7              198.0   \n",
       "\n",
       "     body_mass_g     sex  year  body_mass_kg  \n",
       "0         3750.0    male  2007         3.750  \n",
       "1         3800.0  female  2007         3.800  \n",
       "2         3250.0  female  2007         3.250  \n",
       "3            NaN     NaN  2007           NaN  \n",
       "4         3450.0  female  2007         3.450  \n",
       "..           ...     ...   ...           ...  \n",
       "339       4000.0    male  2009         4.000  \n",
       "340       3400.0  female  2009         3.400  \n",
       "341       3775.0    male  2009         3.775  \n",
       "342       4100.0    male  2009         4.100  \n",
       "343       3775.0  female  2009         3.775  \n",
       "\n",
       "[344 rows x 9 columns]"
      ]
     },
     "execution_count": 8,
     "metadata": {},
     "output_type": "execute_result"
    }
   ],
   "source": [
    "penguins"
   ]
  },
  {
   "cell_type": "code",
   "execution_count": 13,
   "id": "f8fa3e8f-c60d-4537-99d9-ceff8aae71c8",
   "metadata": {
    "tags": []
   },
   "outputs": [],
   "source": [
    "# Create random 3 digit codes\n",
    "\n",
    "codes = random.sample(range(100,1000), len(penguins)) #sampling without replacement\n"
   ]
  },
  {
   "cell_type": "code",
   "execution_count": 15,
   "id": "d2097c47-0df5-459a-9fff-8208c4503024",
   "metadata": {
    "tags": []
   },
   "outputs": [
    {
     "ename": "ValueError",
     "evalue": "cannot insert id_code, already exists",
     "output_type": "error",
     "traceback": [
      "\u001b[0;31m---------------------------------------------------------------------------\u001b[0m",
      "\u001b[0;31mValueError\u001b[0m                                Traceback (most recent call last)",
      "\u001b[0;32m/tmp/ipykernel_1047092/3257101406.py\u001b[0m in \u001b[0;36m?\u001b[0;34m()\u001b[0m\n\u001b[1;32m      1\u001b[0m \u001b[0;31m# insert codes at the front of data frame\u001b[0m\u001b[0;34m\u001b[0m\u001b[0;34m\u001b[0m\u001b[0m\n\u001b[0;32m----> 2\u001b[0;31m penguins.insert(loc = 0, #index\n\u001b[0m\u001b[1;32m      3\u001b[0m                 \u001b[0mcolumn\u001b[0m \u001b[0;34m=\u001b[0m \u001b[0;34m'id_code'\u001b[0m\u001b[0;34m,\u001b[0m\u001b[0;34m\u001b[0m\u001b[0;34m\u001b[0m\u001b[0m\n\u001b[1;32m      4\u001b[0m                value = codes)\n\u001b[1;32m      5\u001b[0m \u001b[0mpenguins\u001b[0m\u001b[0;34m.\u001b[0m\u001b[0mhead\u001b[0m\u001b[0;34m(\u001b[0m\u001b[0;34m)\u001b[0m\u001b[0;34m\u001b[0m\u001b[0;34m\u001b[0m\u001b[0m\n",
      "\u001b[0;32m/opt/anaconda3/envs/eds220-env/lib/python3.11/site-packages/pandas/core/frame.py\u001b[0m in \u001b[0;36m?\u001b[0;34m(self, loc, column, value, allow_duplicates)\u001b[0m\n\u001b[1;32m   5154\u001b[0m                 \u001b[0;34m\"'self.flags.allows_duplicate_labels' is False.\"\u001b[0m\u001b[0;34m\u001b[0m\u001b[0;34m\u001b[0m\u001b[0m\n\u001b[1;32m   5155\u001b[0m             )\n\u001b[1;32m   5156\u001b[0m         \u001b[0;32mif\u001b[0m \u001b[0;32mnot\u001b[0m \u001b[0mallow_duplicates\u001b[0m \u001b[0;32mand\u001b[0m \u001b[0mcolumn\u001b[0m \u001b[0;32min\u001b[0m \u001b[0mself\u001b[0m\u001b[0;34m.\u001b[0m\u001b[0mcolumns\u001b[0m\u001b[0;34m:\u001b[0m\u001b[0;34m\u001b[0m\u001b[0;34m\u001b[0m\u001b[0m\n\u001b[1;32m   5157\u001b[0m             \u001b[0;31m# Should this be a different kind of error??\u001b[0m\u001b[0;34m\u001b[0m\u001b[0;34m\u001b[0m\u001b[0m\n\u001b[0;32m-> 5158\u001b[0;31m             \u001b[0;32mraise\u001b[0m \u001b[0mValueError\u001b[0m\u001b[0;34m(\u001b[0m\u001b[0;34mf\"cannot insert {column}, already exists\"\u001b[0m\u001b[0;34m)\u001b[0m\u001b[0;34m\u001b[0m\u001b[0;34m\u001b[0m\u001b[0m\n\u001b[0m\u001b[1;32m   5159\u001b[0m         \u001b[0;32mif\u001b[0m \u001b[0;32mnot\u001b[0m \u001b[0mis_integer\u001b[0m\u001b[0;34m(\u001b[0m\u001b[0mloc\u001b[0m\u001b[0;34m)\u001b[0m\u001b[0;34m:\u001b[0m\u001b[0;34m\u001b[0m\u001b[0;34m\u001b[0m\u001b[0m\n\u001b[1;32m   5160\u001b[0m             \u001b[0;32mraise\u001b[0m \u001b[0mTypeError\u001b[0m\u001b[0;34m(\u001b[0m\u001b[0;34m\"loc must be int\"\u001b[0m\u001b[0;34m)\u001b[0m\u001b[0;34m\u001b[0m\u001b[0;34m\u001b[0m\u001b[0m\n\u001b[1;32m   5161\u001b[0m         \u001b[0;31m# convert non stdlib ints to satisfy typing checks\u001b[0m\u001b[0;34m\u001b[0m\u001b[0;34m\u001b[0m\u001b[0m\n",
      "\u001b[0;31mValueError\u001b[0m: cannot insert id_code, already exists"
     ]
    }
   ],
   "source": [
    "# insert codes at the front of data frame\n",
    "penguins.insert(loc = 0, #index\n",
    "                column = 'id_code',\n",
    "               value = codes)\n",
    "penguins.head()"
   ]
  },
  {
   "cell_type": "markdown",
   "id": "2cf8e7ad-6966-433f-bea4-67a4331ab195",
   "metadata": {},
   "source": [
    "## A single value \n",
    "\n",
    "access single value in `pandas.DataFrame` isong locators\n",
    "- `at[]` to select by labels\n",
    "- `iat[]` to select by index position\n",
    "\n",
    "syntax:\n",
    "```\n",
    "df.at[ single_index_value, 'column_name']\n",
    "```\n",
    "* `at[]` equivalent of `loc[]` when accessing single value "
   ]
  },
  {
   "cell_type": "code",
   "execution_count": 18,
   "id": "b33f179f-720f-4cfe-a42d-b0c76edc9ad5",
   "metadata": {
    "tags": []
   },
   "outputs": [
    {
     "ename": "KeyError",
     "evalue": "\"None of ['id_code'] are in the columns\"",
     "output_type": "error",
     "traceback": [
      "\u001b[0;31m---------------------------------------------------------------------------\u001b[0m",
      "\u001b[0;31mKeyError\u001b[0m                                  Traceback (most recent call last)",
      "\u001b[0;32m/tmp/ipykernel_1047092/4273986939.py\u001b[0m in \u001b[0;36m?\u001b[0;34m()\u001b[0m\n\u001b[0;32m----> 1\u001b[0;31m \u001b[0mpenguins\u001b[0m \u001b[0;34m=\u001b[0m \u001b[0mpenguins\u001b[0m\u001b[0;34m.\u001b[0m\u001b[0mset_index\u001b[0m\u001b[0;34m(\u001b[0m\u001b[0;34m'id_code'\u001b[0m\u001b[0;34m)\u001b[0m\u001b[0;34m\u001b[0m\u001b[0;34m\u001b[0m\u001b[0m\n\u001b[0m\u001b[1;32m      2\u001b[0m \u001b[0mpenguins\u001b[0m\u001b[0;34m\u001b[0m\u001b[0;34m\u001b[0m\u001b[0m\n",
      "\u001b[0;32m/opt/anaconda3/envs/eds220-env/lib/python3.11/site-packages/pandas/core/frame.py\u001b[0m in \u001b[0;36m?\u001b[0;34m(self, keys, drop, append, inplace, verify_integrity)\u001b[0m\n\u001b[1;32m   6118\u001b[0m                     \u001b[0;32mif\u001b[0m \u001b[0;32mnot\u001b[0m \u001b[0mfound\u001b[0m\u001b[0;34m:\u001b[0m\u001b[0;34m\u001b[0m\u001b[0;34m\u001b[0m\u001b[0m\n\u001b[1;32m   6119\u001b[0m                         \u001b[0mmissing\u001b[0m\u001b[0;34m.\u001b[0m\u001b[0mappend\u001b[0m\u001b[0;34m(\u001b[0m\u001b[0mcol\u001b[0m\u001b[0;34m)\u001b[0m\u001b[0;34m\u001b[0m\u001b[0;34m\u001b[0m\u001b[0m\n\u001b[1;32m   6120\u001b[0m \u001b[0;34m\u001b[0m\u001b[0m\n\u001b[1;32m   6121\u001b[0m         \u001b[0;32mif\u001b[0m \u001b[0mmissing\u001b[0m\u001b[0;34m:\u001b[0m\u001b[0;34m\u001b[0m\u001b[0;34m\u001b[0m\u001b[0m\n\u001b[0;32m-> 6122\u001b[0;31m             \u001b[0;32mraise\u001b[0m \u001b[0mKeyError\u001b[0m\u001b[0;34m(\u001b[0m\u001b[0;34mf\"None of {missing} are in the columns\"\u001b[0m\u001b[0;34m)\u001b[0m\u001b[0;34m\u001b[0m\u001b[0;34m\u001b[0m\u001b[0m\n\u001b[0m\u001b[1;32m   6123\u001b[0m \u001b[0;34m\u001b[0m\u001b[0m\n\u001b[1;32m   6124\u001b[0m         \u001b[0;32mif\u001b[0m \u001b[0minplace\u001b[0m\u001b[0;34m:\u001b[0m\u001b[0;34m\u001b[0m\u001b[0;34m\u001b[0m\u001b[0m\n\u001b[1;32m   6125\u001b[0m             \u001b[0mframe\u001b[0m \u001b[0;34m=\u001b[0m \u001b[0mself\u001b[0m\u001b[0;34m\u001b[0m\u001b[0;34m\u001b[0m\u001b[0m\n",
      "\u001b[0;31mKeyError\u001b[0m: \"None of ['id_code'] are in the columns\""
     ]
    }
   ],
   "source": [
    "penguins = penguins.set_index('id_code')\n"
   ]
  },
  {
   "cell_type": "code",
   "execution_count": 19,
   "id": "e5a2ef3e-8817-477a-b278-c6ef8c3da999",
   "metadata": {
    "tags": []
   },
   "outputs": [
    {
     "data": {
      "text/html": [
       "<div>\n",
       "<style scoped>\n",
       "    .dataframe tbody tr th:only-of-type {\n",
       "        vertical-align: middle;\n",
       "    }\n",
       "\n",
       "    .dataframe tbody tr th {\n",
       "        vertical-align: top;\n",
       "    }\n",
       "\n",
       "    .dataframe thead th {\n",
       "        text-align: right;\n",
       "    }\n",
       "</style>\n",
       "<table border=\"1\" class=\"dataframe\">\n",
       "  <thead>\n",
       "    <tr style=\"text-align: right;\">\n",
       "      <th></th>\n",
       "      <th>species</th>\n",
       "      <th>island</th>\n",
       "      <th>bill_length_mm</th>\n",
       "      <th>bill_depth_mm</th>\n",
       "      <th>flipper_length_mm</th>\n",
       "      <th>body_mass_g</th>\n",
       "      <th>sex</th>\n",
       "      <th>year</th>\n",
       "      <th>body_mass_kg</th>\n",
       "    </tr>\n",
       "    <tr>\n",
       "      <th>id_code</th>\n",
       "      <th></th>\n",
       "      <th></th>\n",
       "      <th></th>\n",
       "      <th></th>\n",
       "      <th></th>\n",
       "      <th></th>\n",
       "      <th></th>\n",
       "      <th></th>\n",
       "      <th></th>\n",
       "    </tr>\n",
       "  </thead>\n",
       "  <tbody>\n",
       "    <tr>\n",
       "      <th>201</th>\n",
       "      <td>Adelie</td>\n",
       "      <td>Torgersen</td>\n",
       "      <td>39.1</td>\n",
       "      <td>18.7</td>\n",
       "      <td>181.0</td>\n",
       "      <td>3750.0</td>\n",
       "      <td>male</td>\n",
       "      <td>2007</td>\n",
       "      <td>3.750</td>\n",
       "    </tr>\n",
       "    <tr>\n",
       "      <th>802</th>\n",
       "      <td>Adelie</td>\n",
       "      <td>Torgersen</td>\n",
       "      <td>39.5</td>\n",
       "      <td>17.4</td>\n",
       "      <td>186.0</td>\n",
       "      <td>3800.0</td>\n",
       "      <td>female</td>\n",
       "      <td>2007</td>\n",
       "      <td>3.800</td>\n",
       "    </tr>\n",
       "    <tr>\n",
       "      <th>476</th>\n",
       "      <td>Adelie</td>\n",
       "      <td>Torgersen</td>\n",
       "      <td>40.3</td>\n",
       "      <td>18.0</td>\n",
       "      <td>195.0</td>\n",
       "      <td>3250.0</td>\n",
       "      <td>female</td>\n",
       "      <td>2007</td>\n",
       "      <td>3.250</td>\n",
       "    </tr>\n",
       "    <tr>\n",
       "      <th>657</th>\n",
       "      <td>Adelie</td>\n",
       "      <td>Torgersen</td>\n",
       "      <td>NaN</td>\n",
       "      <td>NaN</td>\n",
       "      <td>NaN</td>\n",
       "      <td>NaN</td>\n",
       "      <td>NaN</td>\n",
       "      <td>2007</td>\n",
       "      <td>NaN</td>\n",
       "    </tr>\n",
       "    <tr>\n",
       "      <th>760</th>\n",
       "      <td>Adelie</td>\n",
       "      <td>Torgersen</td>\n",
       "      <td>36.7</td>\n",
       "      <td>19.3</td>\n",
       "      <td>193.0</td>\n",
       "      <td>3450.0</td>\n",
       "      <td>female</td>\n",
       "      <td>2007</td>\n",
       "      <td>3.450</td>\n",
       "    </tr>\n",
       "    <tr>\n",
       "      <th>...</th>\n",
       "      <td>...</td>\n",
       "      <td>...</td>\n",
       "      <td>...</td>\n",
       "      <td>...</td>\n",
       "      <td>...</td>\n",
       "      <td>...</td>\n",
       "      <td>...</td>\n",
       "      <td>...</td>\n",
       "      <td>...</td>\n",
       "    </tr>\n",
       "    <tr>\n",
       "      <th>430</th>\n",
       "      <td>Chinstrap</td>\n",
       "      <td>Dream</td>\n",
       "      <td>55.8</td>\n",
       "      <td>19.8</td>\n",
       "      <td>207.0</td>\n",
       "      <td>4000.0</td>\n",
       "      <td>male</td>\n",
       "      <td>2009</td>\n",
       "      <td>4.000</td>\n",
       "    </tr>\n",
       "    <tr>\n",
       "      <th>423</th>\n",
       "      <td>Chinstrap</td>\n",
       "      <td>Dream</td>\n",
       "      <td>43.5</td>\n",
       "      <td>18.1</td>\n",
       "      <td>202.0</td>\n",
       "      <td>3400.0</td>\n",
       "      <td>female</td>\n",
       "      <td>2009</td>\n",
       "      <td>3.400</td>\n",
       "    </tr>\n",
       "    <tr>\n",
       "      <th>254</th>\n",
       "      <td>Chinstrap</td>\n",
       "      <td>Dream</td>\n",
       "      <td>49.6</td>\n",
       "      <td>18.2</td>\n",
       "      <td>193.0</td>\n",
       "      <td>3775.0</td>\n",
       "      <td>male</td>\n",
       "      <td>2009</td>\n",
       "      <td>3.775</td>\n",
       "    </tr>\n",
       "    <tr>\n",
       "      <th>550</th>\n",
       "      <td>Chinstrap</td>\n",
       "      <td>Dream</td>\n",
       "      <td>50.8</td>\n",
       "      <td>19.0</td>\n",
       "      <td>210.0</td>\n",
       "      <td>4100.0</td>\n",
       "      <td>male</td>\n",
       "      <td>2009</td>\n",
       "      <td>4.100</td>\n",
       "    </tr>\n",
       "    <tr>\n",
       "      <th>169</th>\n",
       "      <td>Chinstrap</td>\n",
       "      <td>Dream</td>\n",
       "      <td>50.2</td>\n",
       "      <td>18.7</td>\n",
       "      <td>198.0</td>\n",
       "      <td>3775.0</td>\n",
       "      <td>female</td>\n",
       "      <td>2009</td>\n",
       "      <td>3.775</td>\n",
       "    </tr>\n",
       "  </tbody>\n",
       "</table>\n",
       "<p>344 rows × 9 columns</p>\n",
       "</div>"
      ],
      "text/plain": [
       "           species     island  bill_length_mm  bill_depth_mm  \\\n",
       "id_code                                                        \n",
       "201         Adelie  Torgersen            39.1           18.7   \n",
       "802         Adelie  Torgersen            39.5           17.4   \n",
       "476         Adelie  Torgersen            40.3           18.0   \n",
       "657         Adelie  Torgersen             NaN            NaN   \n",
       "760         Adelie  Torgersen            36.7           19.3   \n",
       "...            ...        ...             ...            ...   \n",
       "430      Chinstrap      Dream            55.8           19.8   \n",
       "423      Chinstrap      Dream            43.5           18.1   \n",
       "254      Chinstrap      Dream            49.6           18.2   \n",
       "550      Chinstrap      Dream            50.8           19.0   \n",
       "169      Chinstrap      Dream            50.2           18.7   \n",
       "\n",
       "         flipper_length_mm  body_mass_g     sex  year  body_mass_kg  \n",
       "id_code                                                              \n",
       "201                  181.0       3750.0    male  2007         3.750  \n",
       "802                  186.0       3800.0  female  2007         3.800  \n",
       "476                  195.0       3250.0  female  2007         3.250  \n",
       "657                    NaN          NaN     NaN  2007           NaN  \n",
       "760                  193.0       3450.0  female  2007         3.450  \n",
       "...                    ...          ...     ...   ...           ...  \n",
       "430                  207.0       4000.0    male  2009         4.000  \n",
       "423                  202.0       3400.0  female  2009         3.400  \n",
       "254                  193.0       3775.0    male  2009         3.775  \n",
       "550                  210.0       4100.0    male  2009         4.100  \n",
       "169                  198.0       3775.0  female  2009         3.775  \n",
       "\n",
       "[344 rows x 9 columns]"
      ]
     },
     "execution_count": 19,
     "metadata": {},
     "output_type": "execute_result"
    }
   ],
   "source": [
    "penguins"
   ]
  },
  {
   "cell_type": "markdown",
   "id": "8099a7b7-e658-4327-a530-a891c533e8a2",
   "metadata": {},
   "source": [
    "what was the bill length of the penguin with id: 657?"
   ]
  },
  {
   "cell_type": "code",
   "execution_count": 24,
   "id": "8a6e7320-cd41-4c8e-bf66-5b46ec48f447",
   "metadata": {
    "tags": []
   },
   "outputs": [
    {
     "data": {
      "text/plain": [
       "nan"
      ]
     },
     "execution_count": 24,
     "metadata": {},
     "output_type": "execute_result"
    }
   ],
   "source": [
    "#Check bill length of penguin with ID 657\n",
    "penguins.at[657, 'bill_length_mm']"
   ]
  },
  {
   "cell_type": "code",
   "execution_count": 27,
   "id": "fe4d243e-0b4c-4aad-abe4-bca539237377",
   "metadata": {
    "tags": []
   },
   "outputs": [
    {
     "data": {
      "text/plain": [
       "species                 Adelie\n",
       "island               Torgersen\n",
       "bill_length_mm            38.3\n",
       "bill_depth_mm              NaN\n",
       "flipper_length_mm          NaN\n",
       "body_mass_g                NaN\n",
       "sex                        NaN\n",
       "year                      2007\n",
       "body_mass_kg               NaN\n",
       "Name: 657, dtype: object"
      ]
     },
     "execution_count": 27,
     "metadata": {},
     "output_type": "execute_result"
    }
   ],
   "source": [
    "# Correct bill length of penguin with id 657\n",
    "penguins.at[657, 'bill_length_mm'] = 38.3\n",
    "\n",
    "# Confirm value was updated\n",
    "penguins.loc[657]"
   ]
  },
  {
   "cell_type": "markdown",
   "id": "2a076dfe-a35b-47a2-a2b3-7f5322577624",
   "metadata": {},
   "source": [
    "If we want to access or update a single value by index position we use `iat[]` locator\n",
    "\n",
    "Syntax:\n",
    "```\n",
    "df.iat[index_location, column_integer_location]\n",
    "```\n",
    "Dynamically get the location of single column\n",
    "```\n",
    "df.columns.get_loc('column_name')\n",
    "```\n",
    "\n",
    "## Checking\n",
    "a. Obtain the location of `bill_length_mm` column\n",
    "b. use `iat[]` to access bull length for the penguin with id 657 and revert to na\n"
   ]
  },
  {
   "cell_type": "code",
   "execution_count": 29,
   "id": "df9b4df8-9eea-4ecd-af8b-84f5da0ab33c",
   "metadata": {
    "tags": []
   },
   "outputs": [
    {
     "data": {
      "text/plain": [
       "2"
      ]
     },
     "execution_count": 29,
     "metadata": {},
     "output_type": "execute_result"
    }
   ],
   "source": [
    "penguins.columns.get_loc('bill_length_mm')"
   ]
  },
  {
   "cell_type": "code",
   "execution_count": 43,
   "id": "53725e47-2f39-4247-8cbe-d1c8838634e4",
   "metadata": {
    "tags": []
   },
   "outputs": [
    {
     "data": {
      "text/plain": [
       "species                 Adelie\n",
       "island               Torgersen\n",
       "bill_length_mm             NaN\n",
       "bill_depth_mm              NaN\n",
       "flipper_length_mm          NaN\n",
       "body_mass_g                NaN\n",
       "sex                        NaN\n",
       "year                      2007\n",
       "body_mass_kg               NaN\n",
       "Name: 657, dtype: object"
      ]
     },
     "execution_count": 43,
     "metadata": {},
     "output_type": "execute_result"
    }
   ],
   "source": [
    "penguins.iat[3, 2] = np.nan\n",
    "penguins.iloc[3]"
   ]
  },
  {
   "cell_type": "markdown",
   "id": "1d8d16b3-a244-422f-ad52-a59abbf511d5",
   "metadata": {},
   "source": [
    "## Multiple values in a column \n",
    "\n",
    "### Using a condition\n",
    "\n",
    "Ex. \n",
    "We want to classify palmer penguins such that:\n",
    "- penguins with body mass <3kg are small \n",
    "- penguings with 3<= body mass < 5kg are medium\n",
    "- penguins with 5< body mass are large\n",
    "\n"
   ]
  },
  {
   "cell_type": "code",
   "execution_count": 50,
   "id": "50f6a240-5462-4888-8ffc-82ee34c180ce",
   "metadata": {
    "tags": []
   },
   "outputs": [
    {
     "data": {
      "text/html": [
       "<div>\n",
       "<style scoped>\n",
       "    .dataframe tbody tr th:only-of-type {\n",
       "        vertical-align: middle;\n",
       "    }\n",
       "\n",
       "    .dataframe tbody tr th {\n",
       "        vertical-align: top;\n",
       "    }\n",
       "\n",
       "    .dataframe thead th {\n",
       "        text-align: right;\n",
       "    }\n",
       "</style>\n",
       "<table border=\"1\" class=\"dataframe\">\n",
       "  <thead>\n",
       "    <tr style=\"text-align: right;\">\n",
       "      <th></th>\n",
       "      <th>species</th>\n",
       "      <th>island</th>\n",
       "      <th>bill_length_mm</th>\n",
       "      <th>bill_depth_mm</th>\n",
       "      <th>flipper_length_mm</th>\n",
       "      <th>body_mass_g</th>\n",
       "      <th>sex</th>\n",
       "      <th>year</th>\n",
       "      <th>body_mass_kg</th>\n",
       "      <th>size</th>\n",
       "    </tr>\n",
       "    <tr>\n",
       "      <th>id_code</th>\n",
       "      <th></th>\n",
       "      <th></th>\n",
       "      <th></th>\n",
       "      <th></th>\n",
       "      <th></th>\n",
       "      <th></th>\n",
       "      <th></th>\n",
       "      <th></th>\n",
       "      <th></th>\n",
       "      <th></th>\n",
       "    </tr>\n",
       "  </thead>\n",
       "  <tbody>\n",
       "    <tr>\n",
       "      <th>201</th>\n",
       "      <td>Adelie</td>\n",
       "      <td>Torgersen</td>\n",
       "      <td>39.1</td>\n",
       "      <td>18.7</td>\n",
       "      <td>181.0</td>\n",
       "      <td>3750.0</td>\n",
       "      <td>male</td>\n",
       "      <td>2007</td>\n",
       "      <td>3.75</td>\n",
       "      <td>medium</td>\n",
       "    </tr>\n",
       "    <tr>\n",
       "      <th>802</th>\n",
       "      <td>Adelie</td>\n",
       "      <td>Torgersen</td>\n",
       "      <td>39.5</td>\n",
       "      <td>17.4</td>\n",
       "      <td>186.0</td>\n",
       "      <td>3800.0</td>\n",
       "      <td>female</td>\n",
       "      <td>2007</td>\n",
       "      <td>3.80</td>\n",
       "      <td>medium</td>\n",
       "    </tr>\n",
       "    <tr>\n",
       "      <th>476</th>\n",
       "      <td>Adelie</td>\n",
       "      <td>Torgersen</td>\n",
       "      <td>40.3</td>\n",
       "      <td>18.0</td>\n",
       "      <td>195.0</td>\n",
       "      <td>3250.0</td>\n",
       "      <td>female</td>\n",
       "      <td>2007</td>\n",
       "      <td>3.25</td>\n",
       "      <td>medium</td>\n",
       "    </tr>\n",
       "    <tr>\n",
       "      <th>657</th>\n",
       "      <td>Adelie</td>\n",
       "      <td>Torgersen</td>\n",
       "      <td>NaN</td>\n",
       "      <td>NaN</td>\n",
       "      <td>NaN</td>\n",
       "      <td>NaN</td>\n",
       "      <td>NaN</td>\n",
       "      <td>2007</td>\n",
       "      <td>NaN</td>\n",
       "      <td>nan</td>\n",
       "    </tr>\n",
       "    <tr>\n",
       "      <th>760</th>\n",
       "      <td>Adelie</td>\n",
       "      <td>Torgersen</td>\n",
       "      <td>NaN</td>\n",
       "      <td>19.3</td>\n",
       "      <td>193.0</td>\n",
       "      <td>3450.0</td>\n",
       "      <td>female</td>\n",
       "      <td>2007</td>\n",
       "      <td>3.45</td>\n",
       "      <td>medium</td>\n",
       "    </tr>\n",
       "  </tbody>\n",
       "</table>\n",
       "</div>"
      ],
      "text/plain": [
       "        species     island  bill_length_mm  bill_depth_mm  flipper_length_mm  \\\n",
       "id_code                                                                        \n",
       "201      Adelie  Torgersen            39.1           18.7              181.0   \n",
       "802      Adelie  Torgersen            39.5           17.4              186.0   \n",
       "476      Adelie  Torgersen            40.3           18.0              195.0   \n",
       "657      Adelie  Torgersen             NaN            NaN                NaN   \n",
       "760      Adelie  Torgersen             NaN           19.3              193.0   \n",
       "\n",
       "         body_mass_g     sex  year  body_mass_kg    size  \n",
       "id_code                                                   \n",
       "201           3750.0    male  2007          3.75  medium  \n",
       "802           3800.0  female  2007          3.80  medium  \n",
       "476           3250.0  female  2007          3.25  medium  \n",
       "657              NaN     NaN  2007           NaN     nan  \n",
       "760           3450.0  female  2007          3.45  medium  "
      ]
     },
     "execution_count": 50,
     "metadata": {},
     "output_type": "execute_result"
    }
   ],
   "source": [
    "# Create list with the conditions\n",
    "conditions = [penguins.body_mass_kg <3, \n",
    "             (3<= penguins.body_mass_kg) & (penguins.body_mass_kg < 5),\n",
    "             5 <= penguins.body_mass_kg]\n",
    "# Create list with the choices\n",
    "choices = ['small', 'medium', 'large']\n",
    "\n",
    "# Add the selections using np.select\n",
    "penguins['size'] = np.select(conditions,\n",
    "                            choices,\n",
    "                            default = np.nan)\n",
    "\n",
    "#Display head\n",
    "penguins.head()"
   ]
  },
  {
   "cell_type": "markdown",
   "id": "cfe5a1f9-1f0d-47ef-a106-3448e7e50800",
   "metadata": {},
   "source": [
    "## Update values by selecting them \n",
    "\n",
    "We can do this with `loc` or `iloc`\n",
    "\n",
    "syntax:\n",
    "``` \n",
    "df.loc[row_selection, column_name] = new_variables\n",
    "```\n",
    "\n",
    "Ex. update male to m \n"
   ]
  },
  {
   "cell_type": "code",
   "execution_count": 53,
   "id": "059e838b-4d4d-4bc0-8a51-f503c11d015b",
   "metadata": {
    "tags": []
   },
   "outputs": [
    {
     "data": {
      "text/html": [
       "<div>\n",
       "<style scoped>\n",
       "    .dataframe tbody tr th:only-of-type {\n",
       "        vertical-align: middle;\n",
       "    }\n",
       "\n",
       "    .dataframe tbody tr th {\n",
       "        vertical-align: top;\n",
       "    }\n",
       "\n",
       "    .dataframe thead th {\n",
       "        text-align: right;\n",
       "    }\n",
       "</style>\n",
       "<table border=\"1\" class=\"dataframe\">\n",
       "  <thead>\n",
       "    <tr style=\"text-align: right;\">\n",
       "      <th></th>\n",
       "      <th>species</th>\n",
       "      <th>island</th>\n",
       "      <th>bill_length_mm</th>\n",
       "      <th>bill_depth_mm</th>\n",
       "      <th>flipper_length_mm</th>\n",
       "      <th>body_mass_g</th>\n",
       "      <th>sex</th>\n",
       "      <th>year</th>\n",
       "      <th>body_mass_kg</th>\n",
       "      <th>size</th>\n",
       "    </tr>\n",
       "    <tr>\n",
       "      <th>id_code</th>\n",
       "      <th></th>\n",
       "      <th></th>\n",
       "      <th></th>\n",
       "      <th></th>\n",
       "      <th></th>\n",
       "      <th></th>\n",
       "      <th></th>\n",
       "      <th></th>\n",
       "      <th></th>\n",
       "      <th></th>\n",
       "    </tr>\n",
       "  </thead>\n",
       "  <tbody>\n",
       "    <tr>\n",
       "      <th>201</th>\n",
       "      <td>Adelie</td>\n",
       "      <td>Torgersen</td>\n",
       "      <td>39.1</td>\n",
       "      <td>18.7</td>\n",
       "      <td>181.0</td>\n",
       "      <td>3750.0</td>\n",
       "      <td>M</td>\n",
       "      <td>2007</td>\n",
       "      <td>3.75</td>\n",
       "      <td>medium</td>\n",
       "    </tr>\n",
       "    <tr>\n",
       "      <th>802</th>\n",
       "      <td>Adelie</td>\n",
       "      <td>Torgersen</td>\n",
       "      <td>39.5</td>\n",
       "      <td>17.4</td>\n",
       "      <td>186.0</td>\n",
       "      <td>3800.0</td>\n",
       "      <td>female</td>\n",
       "      <td>2007</td>\n",
       "      <td>3.80</td>\n",
       "      <td>medium</td>\n",
       "    </tr>\n",
       "    <tr>\n",
       "      <th>476</th>\n",
       "      <td>Adelie</td>\n",
       "      <td>Torgersen</td>\n",
       "      <td>40.3</td>\n",
       "      <td>18.0</td>\n",
       "      <td>195.0</td>\n",
       "      <td>3250.0</td>\n",
       "      <td>female</td>\n",
       "      <td>2007</td>\n",
       "      <td>3.25</td>\n",
       "      <td>medium</td>\n",
       "    </tr>\n",
       "    <tr>\n",
       "      <th>657</th>\n",
       "      <td>Adelie</td>\n",
       "      <td>Torgersen</td>\n",
       "      <td>NaN</td>\n",
       "      <td>NaN</td>\n",
       "      <td>NaN</td>\n",
       "      <td>NaN</td>\n",
       "      <td>NaN</td>\n",
       "      <td>2007</td>\n",
       "      <td>NaN</td>\n",
       "      <td>nan</td>\n",
       "    </tr>\n",
       "    <tr>\n",
       "      <th>760</th>\n",
       "      <td>Adelie</td>\n",
       "      <td>Torgersen</td>\n",
       "      <td>NaN</td>\n",
       "      <td>19.3</td>\n",
       "      <td>193.0</td>\n",
       "      <td>3450.0</td>\n",
       "      <td>female</td>\n",
       "      <td>2007</td>\n",
       "      <td>3.45</td>\n",
       "      <td>medium</td>\n",
       "    </tr>\n",
       "  </tbody>\n",
       "</table>\n",
       "</div>"
      ],
      "text/plain": [
       "        species     island  bill_length_mm  bill_depth_mm  flipper_length_mm  \\\n",
       "id_code                                                                        \n",
       "201      Adelie  Torgersen            39.1           18.7              181.0   \n",
       "802      Adelie  Torgersen            39.5           17.4              186.0   \n",
       "476      Adelie  Torgersen            40.3           18.0              195.0   \n",
       "657      Adelie  Torgersen             NaN            NaN                NaN   \n",
       "760      Adelie  Torgersen             NaN           19.3              193.0   \n",
       "\n",
       "         body_mass_g     sex  year  body_mass_kg    size  \n",
       "id_code                                                   \n",
       "201           3750.0       M  2007          3.75  medium  \n",
       "802           3800.0  female  2007          3.80  medium  \n",
       "476           3250.0  female  2007          3.25  medium  \n",
       "657              NaN     NaN  2007           NaN     nan  \n",
       "760           3450.0  female  2007          3.45  medium  "
      ]
     },
     "execution_count": 53,
     "metadata": {},
     "output_type": "execute_result"
    }
   ],
   "source": [
    "#Select row with sex = male and simplify values\n",
    "penguins.loc[penguins.sex == 'male', 'sex'] = 'M'\n"
   ]
  },
  {
   "cell_type": "code",
   "execution_count": 54,
   "id": "9f843b8d-7198-4a70-868c-bf375d65682d",
   "metadata": {
    "tags": []
   },
   "outputs": [
    {
     "name": "stdout",
     "output_type": "stream",
     "text": [
      "['M' 'female' nan]\n"
     ]
    }
   ],
   "source": [
    "# Check changes in 'sex' column\n",
    "print(penguins.sex.unique())"
   ]
  },
  {
   "cell_type": "markdown",
   "id": "44f5529b-b50c-4a5f-8f7c-cbb8b35d3a8f",
   "metadata": {},
   "source": [
    "#### Best practices\n",
    "\n",
    "We want to update 'fema;e' vals too"
   ]
  },
  {
   "cell_type": "code",
   "execution_count": 56,
   "id": "c824c748-4a86-4cd8-b452-a2687a4692b5",
   "metadata": {
    "tags": []
   },
   "outputs": [],
   "source": [
    "# Select rows where sex is female and atempt to update\n",
    "penguins.loc[penguins.sex == 'female', 'sex'] = 'F'"
   ]
  },
  {
   "cell_type": "markdown",
   "id": "6f1f112d-6907-473a-b8ef-6420ba39054c",
   "metadata": {
    "tags": []
   },
   "source": [
    "** Avoid chanded indexing ** use 'loc' instead \n",
    "\n",
    "## Check-in \n",
    "Update the 'female' values without the warning and check that values were updated"
   ]
  },
  {
   "cell_type": "code",
   "execution_count": 59,
   "id": "837d6272-5bc9-4d2b-9a0e-efd4ef61f306",
   "metadata": {
    "tags": []
   },
   "outputs": [
    {
     "name": "stdout",
     "output_type": "stream",
     "text": [
      "['M' 'F' nan]\n"
     ]
    }
   ],
   "source": [
    "print(penguins.sex.unique())"
   ]
  },
  {
   "cell_type": "markdown",
   "id": "e57ff051-5583-4bf1-91b3-c176eb59adda",
   "metadata": {},
   "source": [
    "# Views vs copies\n",
    "\n",
    "## Ex \n",
    "we only want biscoe, and want to add a new column"
   ]
  },
  {
   "cell_type": "code",
   "execution_count": 62,
   "id": "628c9339-c088-42e8-914b-e874827b5f34",
   "metadata": {
    "tags": []
   },
   "outputs": [
    {
     "name": "stderr",
     "output_type": "stream",
     "text": [
      "/tmp/ipykernel_1047092/2664277498.py:6: SettingWithCopyWarning: \n",
      "A value is trying to be set on a copy of a slice from a DataFrame.\n",
      "Try using .loc[row_indexer,col_indexer] = value instead\n",
      "\n",
      "See the caveats in the documentation: https://pandas.pydata.org/pandas-docs/stable/user_guide/indexing.html#returning-a-view-versus-a-copy\n",
      "  biscoe['sample_column'] = 100\n"
     ]
    }
   ],
   "source": [
    "biscoe = penguins[penguins.island == 'Biscoe']\n",
    "\n",
    "#Other analysis\n",
    "\n",
    "# Add a column\n",
    "biscoe['sample_column'] = 100"
   ]
  },
  {
   "cell_type": "markdown",
   "id": "4b415914-35d5-4b2a-bdd6-8e6d6a8dff70",
   "metadata": {},
   "source": [
    "Can explicitly ask for a copy with `copy` method"
   ]
  },
  {
   "cell_type": "code",
   "execution_count": 64,
   "id": "d865a8b3-41d1-4508-94c7-10d8fe264433",
   "metadata": {
    "tags": []
   },
   "outputs": [],
   "source": [
    "biscoe = penguins[penguins.island == 'Biscoe'].copy()\n",
    "\n",
    "#Other analysis\n",
    "\n",
    "# Add a column\n",
    "biscoe['sample_column'] = 100"
   ]
  },
  {
   "cell_type": "markdown",
   "id": "bd188fa0-2049-40de-8809-d2830448c9e4",
   "metadata": {},
   "source": [
    "No error !"
   ]
  },
  {
   "cell_type": "code",
   "execution_count": 66,
   "id": "1a964591-4047-44f2-9ed4-46f589d374a1",
   "metadata": {
    "tags": []
   },
   "outputs": [
    {
     "data": {
      "text/html": [
       "<div>\n",
       "<style scoped>\n",
       "    .dataframe tbody tr th:only-of-type {\n",
       "        vertical-align: middle;\n",
       "    }\n",
       "\n",
       "    .dataframe tbody tr th {\n",
       "        vertical-align: top;\n",
       "    }\n",
       "\n",
       "    .dataframe thead th {\n",
       "        text-align: right;\n",
       "    }\n",
       "</style>\n",
       "<table border=\"1\" class=\"dataframe\">\n",
       "  <thead>\n",
       "    <tr style=\"text-align: right;\">\n",
       "      <th></th>\n",
       "      <th>species</th>\n",
       "      <th>island</th>\n",
       "      <th>bill_length_mm</th>\n",
       "      <th>bill_depth_mm</th>\n",
       "      <th>flipper_length_mm</th>\n",
       "      <th>body_mass_g</th>\n",
       "      <th>sex</th>\n",
       "      <th>year</th>\n",
       "      <th>body_mass_kg</th>\n",
       "      <th>size</th>\n",
       "      <th>sample_column</th>\n",
       "    </tr>\n",
       "    <tr>\n",
       "      <th>id_code</th>\n",
       "      <th></th>\n",
       "      <th></th>\n",
       "      <th></th>\n",
       "      <th></th>\n",
       "      <th></th>\n",
       "      <th></th>\n",
       "      <th></th>\n",
       "      <th></th>\n",
       "      <th></th>\n",
       "      <th></th>\n",
       "      <th></th>\n",
       "    </tr>\n",
       "  </thead>\n",
       "  <tbody>\n",
       "    <tr>\n",
       "      <th>121</th>\n",
       "      <td>Adelie</td>\n",
       "      <td>Biscoe</td>\n",
       "      <td>37.8</td>\n",
       "      <td>18.3</td>\n",
       "      <td>174.0</td>\n",
       "      <td>3400.0</td>\n",
       "      <td>F</td>\n",
       "      <td>2007</td>\n",
       "      <td>3.40</td>\n",
       "      <td>medium</td>\n",
       "      <td>100</td>\n",
       "    </tr>\n",
       "    <tr>\n",
       "      <th>151</th>\n",
       "      <td>Adelie</td>\n",
       "      <td>Biscoe</td>\n",
       "      <td>37.7</td>\n",
       "      <td>18.7</td>\n",
       "      <td>180.0</td>\n",
       "      <td>3600.0</td>\n",
       "      <td>M</td>\n",
       "      <td>2007</td>\n",
       "      <td>3.60</td>\n",
       "      <td>medium</td>\n",
       "      <td>100</td>\n",
       "    </tr>\n",
       "    <tr>\n",
       "      <th>905</th>\n",
       "      <td>Adelie</td>\n",
       "      <td>Biscoe</td>\n",
       "      <td>35.9</td>\n",
       "      <td>19.2</td>\n",
       "      <td>189.0</td>\n",
       "      <td>3800.0</td>\n",
       "      <td>F</td>\n",
       "      <td>2007</td>\n",
       "      <td>3.80</td>\n",
       "      <td>medium</td>\n",
       "      <td>100</td>\n",
       "    </tr>\n",
       "    <tr>\n",
       "      <th>441</th>\n",
       "      <td>Adelie</td>\n",
       "      <td>Biscoe</td>\n",
       "      <td>38.2</td>\n",
       "      <td>18.1</td>\n",
       "      <td>185.0</td>\n",
       "      <td>3950.0</td>\n",
       "      <td>M</td>\n",
       "      <td>2007</td>\n",
       "      <td>3.95</td>\n",
       "      <td>medium</td>\n",
       "      <td>100</td>\n",
       "    </tr>\n",
       "    <tr>\n",
       "      <th>349</th>\n",
       "      <td>Adelie</td>\n",
       "      <td>Biscoe</td>\n",
       "      <td>38.8</td>\n",
       "      <td>17.2</td>\n",
       "      <td>180.0</td>\n",
       "      <td>3800.0</td>\n",
       "      <td>M</td>\n",
       "      <td>2007</td>\n",
       "      <td>3.80</td>\n",
       "      <td>medium</td>\n",
       "      <td>100</td>\n",
       "    </tr>\n",
       "  </tbody>\n",
       "</table>\n",
       "</div>"
      ],
      "text/plain": [
       "        species  island  bill_length_mm  bill_depth_mm  flipper_length_mm  \\\n",
       "id_code                                                                     \n",
       "121      Adelie  Biscoe            37.8           18.3              174.0   \n",
       "151      Adelie  Biscoe            37.7           18.7              180.0   \n",
       "905      Adelie  Biscoe            35.9           19.2              189.0   \n",
       "441      Adelie  Biscoe            38.2           18.1              185.0   \n",
       "349      Adelie  Biscoe            38.8           17.2              180.0   \n",
       "\n",
       "         body_mass_g sex  year  body_mass_kg    size  sample_column  \n",
       "id_code                                                              \n",
       "121           3400.0   F  2007          3.40  medium            100  \n",
       "151           3600.0   M  2007          3.60  medium            100  \n",
       "905           3800.0   F  2007          3.80  medium            100  \n",
       "441           3950.0   M  2007          3.95  medium            100  \n",
       "349           3800.0   M  2007          3.80  medium            100  "
      ]
     },
     "execution_count": 66,
     "metadata": {},
     "output_type": "execute_result"
    }
   ],
   "source": [
    "biscoe.head()"
   ]
  },
  {
   "cell_type": "code",
   "execution_count": 67,
   "id": "097a33c8-38cd-4187-8405-554fe587d5aa",
   "metadata": {
    "tags": []
   },
   "outputs": [
    {
     "data": {
      "text/plain": [
       "False"
      ]
     },
     "execution_count": 67,
     "metadata": {},
     "output_type": "execute_result"
    }
   ],
   "source": [
    "'sample_column' in penguins.columns #Checking if penguins was modified"
   ]
  },
  {
   "cell_type": "markdown",
   "id": "a3f29807-87a4-42fd-b8b1-897904d2dd55",
   "metadata": {},
   "source": [
    "# Check in 1 reading "
   ]
  },
  {
   "cell_type": "code",
   "execution_count": null,
   "id": "c9000896-f621-4c45-928d-4f656409fe0b",
   "metadata": {},
   "outputs": [],
   "source": []
  }
 ],
 "metadata": {
  "kernelspec": {
   "display_name": "EDS220",
   "language": "python",
   "name": "eds220-env"
  },
  "language_info": {
   "codemirror_mode": {
    "name": "ipython",
    "version": 3
   },
   "file_extension": ".py",
   "mimetype": "text/x-python",
   "name": "python",
   "nbconvert_exporter": "python",
   "pygments_lexer": "ipython3",
   "version": "3.11.4"
  }
 },
 "nbformat": 4,
 "nbformat_minor": 5
}
